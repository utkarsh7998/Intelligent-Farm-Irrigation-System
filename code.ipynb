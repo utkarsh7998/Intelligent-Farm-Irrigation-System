{
 "cells": [
  {
   "cell_type": "code",
   "execution_count": 1,
   "metadata": {},
   "outputs": [],
   "source": [
    "import numpy as np\n",
    "import pandas as pd\n",
    "from sklearn import metrics\n",
    "from sklearn.metrics import r2_score\n",
    "from sklearn.neural_network import MLPRegressor\n",
    "from sklearn.model_selection import train_test_split\n",
    "import pandas as pd\n",
    "import matplotlib.pyplot as plt\n",
    "from sklearn.preprocessing import MinMaxScaler\n",
    "from warnings import filterwarnings\n",
    "filterwarnings('ignore')"
   ]
  },
  {
   "cell_type": "markdown",
   "metadata": {},
   "source": [
    "## Reading Dataset"
   ]
  },
  {
   "cell_type": "code",
   "execution_count": 2,
   "metadata": {},
   "outputs": [
    {
     "data": {
      "text/html": [
       "<div>\n",
       "<style scoped>\n",
       "    .dataframe tbody tr th:only-of-type {\n",
       "        vertical-align: middle;\n",
       "    }\n",
       "\n",
       "    .dataframe tbody tr th {\n",
       "        vertical-align: top;\n",
       "    }\n",
       "\n",
       "    .dataframe thead th {\n",
       "        text-align: right;\n",
       "    }\n",
       "</style>\n",
       "<table border=\"1\" class=\"dataframe\">\n",
       "  <thead>\n",
       "    <tr style=\"text-align: right;\">\n",
       "      <th></th>\n",
       "      <th>Humidity</th>\n",
       "      <th>Temperature</th>\n",
       "      <th>Waterflow</th>\n",
       "    </tr>\n",
       "  </thead>\n",
       "  <tbody>\n",
       "    <tr>\n",
       "      <th>0</th>\n",
       "      <td>25.045045</td>\n",
       "      <td>76.856857</td>\n",
       "      <td>67.432607</td>\n",
       "    </tr>\n",
       "    <tr>\n",
       "      <th>1</th>\n",
       "      <td>8.880881</td>\n",
       "      <td>31.771772</td>\n",
       "      <td>0.000000</td>\n",
       "    </tr>\n",
       "    <tr>\n",
       "      <th>2</th>\n",
       "      <td>24.956957</td>\n",
       "      <td>75.735736</td>\n",
       "      <td>66.105904</td>\n",
       "    </tr>\n",
       "    <tr>\n",
       "      <th>3</th>\n",
       "      <td>40.328328</td>\n",
       "      <td>88.308308</td>\n",
       "      <td>0.000000</td>\n",
       "    </tr>\n",
       "    <tr>\n",
       "      <th>4</th>\n",
       "      <td>38.742743</td>\n",
       "      <td>57.157157</td>\n",
       "      <td>0.000000</td>\n",
       "    </tr>\n",
       "  </tbody>\n",
       "</table>\n",
       "</div>"
      ],
      "text/plain": [
       "    Humidity  Temperature  Waterflow\n",
       "0  25.045045    76.856857  67.432607\n",
       "1   8.880881    31.771772   0.000000\n",
       "2  24.956957    75.735736  66.105904\n",
       "3  40.328328    88.308308   0.000000\n",
       "4  38.742743    57.157157   0.000000"
      ]
     },
     "execution_count": 2,
     "metadata": {},
     "output_type": "execute_result"
    }
   ],
   "source": [
    "df = pd.read_csv('IOT_Assignment_2_data_regression_sensor_range.csv')\n",
    "df.columns = ['Humidity', 'Temperature', 'Waterflow']\n",
    "df.head()"
   ]
  },
  {
   "cell_type": "code",
   "execution_count": 3,
   "metadata": {},
   "outputs": [
    {
     "data": {
      "text/html": [
       "<div>\n",
       "<style scoped>\n",
       "    .dataframe tbody tr th:only-of-type {\n",
       "        vertical-align: middle;\n",
       "    }\n",
       "\n",
       "    .dataframe tbody tr th {\n",
       "        vertical-align: top;\n",
       "    }\n",
       "\n",
       "    .dataframe thead th {\n",
       "        text-align: right;\n",
       "    }\n",
       "</style>\n",
       "<table border=\"1\" class=\"dataframe\">\n",
       "  <thead>\n",
       "    <tr style=\"text-align: right;\">\n",
       "      <th></th>\n",
       "      <th>Humidity</th>\n",
       "      <th>Temperature</th>\n",
       "      <th>Waterflow</th>\n",
       "    </tr>\n",
       "  </thead>\n",
       "  <tbody>\n",
       "    <tr>\n",
       "      <th>count</th>\n",
       "      <td>200.000000</td>\n",
       "      <td>200.000000</td>\n",
       "      <td>200.000000</td>\n",
       "    </tr>\n",
       "    <tr>\n",
       "      <th>mean</th>\n",
       "      <td>31.137437</td>\n",
       "      <td>59.747347</td>\n",
       "      <td>25.496364</td>\n",
       "    </tr>\n",
       "    <tr>\n",
       "      <th>std</th>\n",
       "      <td>12.386344</td>\n",
       "      <td>23.112767</td>\n",
       "      <td>34.953661</td>\n",
       "    </tr>\n",
       "    <tr>\n",
       "      <th>min</th>\n",
       "      <td>8.132132</td>\n",
       "      <td>20.000000</td>\n",
       "      <td>0.000000</td>\n",
       "    </tr>\n",
       "    <tr>\n",
       "      <th>25%</th>\n",
       "      <td>21.015015</td>\n",
       "      <td>40.860861</td>\n",
       "      <td>0.000000</td>\n",
       "    </tr>\n",
       "    <tr>\n",
       "      <th>50%</th>\n",
       "      <td>30.616617</td>\n",
       "      <td>58.638639</td>\n",
       "      <td>0.000000</td>\n",
       "    </tr>\n",
       "    <tr>\n",
       "      <th>75%</th>\n",
       "      <td>41.528529</td>\n",
       "      <td>78.998999</td>\n",
       "      <td>61.884829</td>\n",
       "    </tr>\n",
       "    <tr>\n",
       "      <th>max</th>\n",
       "      <td>51.867868</td>\n",
       "      <td>100.000000</td>\n",
       "      <td>100.000000</td>\n",
       "    </tr>\n",
       "  </tbody>\n",
       "</table>\n",
       "</div>"
      ],
      "text/plain": [
       "         Humidity  Temperature   Waterflow\n",
       "count  200.000000   200.000000  200.000000\n",
       "mean    31.137437    59.747347   25.496364\n",
       "std     12.386344    23.112767   34.953661\n",
       "min      8.132132    20.000000    0.000000\n",
       "25%     21.015015    40.860861    0.000000\n",
       "50%     30.616617    58.638639    0.000000\n",
       "75%     41.528529    78.998999   61.884829\n",
       "max     51.867868   100.000000  100.000000"
      ]
     },
     "execution_count": 3,
     "metadata": {},
     "output_type": "execute_result"
    }
   ],
   "source": [
    "df.describe()"
   ]
  },
  {
   "cell_type": "markdown",
   "metadata": {},
   "source": [
    "## Perform Min Max Scaling on Features"
   ]
  },
  {
   "cell_type": "code",
   "execution_count": 4,
   "metadata": {},
   "outputs": [],
   "source": [
    "X = df[['Humidity','Temperature']]\n",
    "scaler = MinMaxScaler()\n",
    "X = scaler.fit_transform(X)\n",
    "y = df.Waterflow"
   ]
  },
  {
   "cell_type": "markdown",
   "metadata": {},
   "source": [
    "## Splitting Dataset into training and testing"
   ]
  },
  {
   "cell_type": "code",
   "execution_count": 5,
   "metadata": {},
   "outputs": [],
   "source": [
    "x_train, x_test, y_train, y_test = train_test_split(X, y, test_size=0.2, random_state = 1)"
   ]
  },
  {
   "cell_type": "markdown",
   "metadata": {},
   "source": [
    "##  Implementing MLP Regressor and Finding the accuracy"
   ]
  },
  {
   "cell_type": "code",
   "execution_count": 6,
   "metadata": {},
   "outputs": [
    {
     "name": "stdout",
     "output_type": "stream",
     "text": [
      "r2_score:  0.8355453119132263 ,accuracy 0.8607942724220553 ,rmse: 12.777447968938661\n"
     ]
    }
   ],
   "source": [
    "from sklearn.metrics import mean_squared_error\n",
    "# The value of random_state=56 have been achieved after running a loop ranging from 0 to 100\n",
    "model = MLPRegressor(activation='relu', hidden_layer_sizes=(16,8),random_state = 56, max_iter=8000).fit(x_train, y_train)\n",
    "y_pred = model.predict(x_test)\n",
    "rms = mean_squared_error(y_test, y_pred, squared=False)\n",
    "print(\"r2_score: \", (r2_score(y_pred, y_test)), \",accuracy\",model.score(x_test, y_test), \",rmse:\",rms)"
   ]
  },
  {
   "cell_type": "markdown",
   "metadata": {},
   "source": [
    "## Testing on some sample values"
   ]
  },
  {
   "cell_type": "code",
   "execution_count": 7,
   "metadata": {},
   "outputs": [
    {
     "data": {
      "text/plain": [
       "array([75.41138601])"
      ]
     },
     "execution_count": 7,
     "metadata": {},
     "output_type": "execute_result"
    }
   ],
   "source": [
    "model.predict(x_test[2].reshape(1,2))"
   ]
  },
  {
   "cell_type": "code",
   "execution_count": 8,
   "metadata": {},
   "outputs": [
    {
     "data": {
      "text/plain": [
       "array([77.16078806])"
      ]
     },
     "execution_count": 8,
     "metadata": {},
     "output_type": "execute_result"
    }
   ],
   "source": [
    "model.predict(x_test[4].reshape(1,2))"
   ]
  },
  {
   "cell_type": "markdown",
   "metadata": {},
   "source": [
    "## Weights of the model"
   ]
  },
  {
   "cell_type": "code",
   "execution_count": 9,
   "metadata": {},
   "outputs": [
    {
     "data": {
      "text/plain": [
       "[array([[ 2.95845826e+000,  2.62680294e-151,  1.68454723e+000,\n",
       "         -3.71697493e-001, -4.13991150e+000,  8.53281870e-001,\n",
       "          4.39498957e-133,  2.49949929e+000,  2.05022038e+000,\n",
       "          4.44919735e-165, -1.02592115e+000, -8.84529456e-106,\n",
       "          1.16865229e+000, -2.48378582e+000, -1.12685780e+000,\n",
       "         -1.52749588e+000],\n",
       "        [ 3.70581235e+000,  1.07164200e-136,  1.48084828e-001,\n",
       "          3.99229036e-001,  1.44800993e+000,  2.14375537e+000,\n",
       "         -4.57236513e-098, -5.34739780e-001,  4.56226909e-001,\n",
       "          5.09892594e-175,  5.62606743e-001,  1.16763444e-137,\n",
       "          2.49084092e+000,  2.61039197e+000,  5.92053689e-001,\n",
       "          2.11379273e+000]]),\n",
       " array([[-5.41265446e-001,  3.40952564e+000, -4.34539424e+000,\n",
       "          4.05294487e+000,  4.58219508e+000,  3.54417762e+000,\n",
       "         -4.15116210e+000, -5.49907549e+000],\n",
       "        [ 5.66518419e-124, -1.25183800e-103, -5.31111317e-179,\n",
       "          2.19274267e-107,  2.09822413e-143,  6.62536393e-154,\n",
       "         -8.30264048e-123, -4.46521254e-180],\n",
       "        [ 1.09741561e+000,  1.20222100e+000,  1.71026036e+000,\n",
       "          1.08968116e+000,  8.13524206e-001,  1.30494027e+000,\n",
       "          1.74346549e-001, -6.18023749e-001],\n",
       "        [-1.45759796e-001, -8.94811723e-003, -2.34782663e-001,\n",
       "         -3.66372688e-001, -2.85093029e-001, -5.01975766e-002,\n",
       "          1.11478502e-180,  1.29004049e-139],\n",
       "        [ 2.50662851e+000,  2.71523692e+000, -5.96463650e+000,\n",
       "          3.90360829e+000,  2.44821652e+000,  3.28224757e+000,\n",
       "          3.67993926e+000, -5.95615299e+000],\n",
       "        [-1.85629459e+000,  8.54769739e-001, -5.53329850e-001,\n",
       "          6.66827908e-001, -1.40172824e+000,  9.18389620e-001,\n",
       "         -1.68561964e+000,  2.48820761e+000],\n",
       "        [ 6.40856407e-177,  3.16043931e-145,  1.61220283e-111,\n",
       "          1.91819701e-107, -5.35005832e-111, -3.23359536e-105,\n",
       "          2.38634266e-117,  8.47591201e-151],\n",
       "        [-1.87732991e-001,  1.98162405e+000,  1.33463399e+000,\n",
       "          1.89632659e+000,  1.02238004e+000,  1.57691897e+000,\n",
       "         -2.54672856e+000, -9.17654212e-002],\n",
       "        [-1.43993821e+000,  1.29747990e+000,  1.08063054e+000,\n",
       "          1.77458153e+000, -1.47218570e-002,  1.59230326e+000,\n",
       "         -2.03675813e+000,  1.49940600e+000],\n",
       "        [ 2.10769499e-126,  4.34658696e-152,  1.56564194e-162,\n",
       "         -1.85313465e-129, -1.28878633e-119,  2.97153250e-112,\n",
       "         -4.15277662e-166,  8.10006059e-151],\n",
       "        [ 1.07536917e-001,  4.74634985e-001,  3.31468961e-003,\n",
       "          7.62761726e-001, -6.59966448e-001,  1.79635207e-001,\n",
       "          2.99997109e+000,  5.18537346e-001],\n",
       "        [-2.57540761e-159, -7.06828895e-154,  1.33696776e-103,\n",
       "          7.79438717e-116,  8.48744321e-115,  8.46691023e-116,\n",
       "         -5.81818085e-121,  1.93824438e-167],\n",
       "        [-8.37057313e-001,  1.05733031e+000, -5.26328482e-001,\n",
       "          9.70063742e-001, -1.38466504e+000,  4.68454883e-001,\n",
       "         -1.55448723e+000,  3.32870406e+000],\n",
       "        [-2.32977889e+000,  1.71613989e+000, -4.40648204e+000,\n",
       "          1.02923631e+000,  9.11824507e-002,  1.54009433e+000,\n",
       "          2.16356917e+000, -3.58079287e+000],\n",
       "        [-4.59135549e-001,  8.29156714e-002,  7.10393544e-001,\n",
       "         -1.09389023e-001, -1.77918281e+000,  6.53617136e-001,\n",
       "          3.18016164e+000,  6.60285336e-001],\n",
       "        [-2.76572282e+000,  1.06307329e+000, -3.15266197e+000,\n",
       "          9.63446881e-001, -2.19875134e+000,  9.91228355e-001,\n",
       "          1.70753654e+000, -8.35503506e-001]]),\n",
       " array([[-2.4994282 ],\n",
       "        [ 2.36415845],\n",
       "        [-4.71240845],\n",
       "        [ 2.47978599],\n",
       "        [-5.79256752],\n",
       "        [ 2.78942908],\n",
       "        [-3.50807105],\n",
       "        [-5.54082873]])]"
      ]
     },
     "execution_count": 9,
     "metadata": {},
     "output_type": "execute_result"
    }
   ],
   "source": [
    "model.coefs_"
   ]
  },
  {
   "cell_type": "markdown",
   "metadata": {},
   "source": [
    "## Bias of the model"
   ]
  },
  {
   "cell_type": "code",
   "execution_count": 10,
   "metadata": {},
   "outputs": [
    {
     "data": {
      "text/plain": [
       "[array([-4.76382938, -0.17346785,  1.28525358, -0.38122354,  1.01136797,\n",
       "        -0.61966671, -0.41820093,  0.47967465,  0.26725188, -0.39660994,\n",
       "         0.70402991, -0.38643418, -0.56158533, -0.42316934,  0.78626603,\n",
       "        -0.46513269]),\n",
       " array([ 1.2152304 ,  0.13011387,  1.04728916,  0.49993377,  0.12602774,\n",
       "         0.10195648,  2.20141629, -0.41615318]),\n",
       " array([0.28850515])]"
      ]
     },
     "execution_count": 10,
     "metadata": {},
     "output_type": "execute_result"
    }
   ],
   "source": [
    "model.intercepts_"
   ]
  },
  {
   "cell_type": "code",
   "execution_count": null,
   "metadata": {},
   "outputs": [],
   "source": []
  }
 ],
 "metadata": {
  "kernelspec": {
   "display_name": "Python 3",
   "language": "python",
   "name": "python3"
  },
  "language_info": {
   "codemirror_mode": {
    "name": "ipython",
    "version": 3
   },
   "file_extension": ".py",
   "mimetype": "text/x-python",
   "name": "python",
   "nbconvert_exporter": "python",
   "pygments_lexer": "ipython3",
   "version": "3.8.5"
  }
 },
 "nbformat": 4,
 "nbformat_minor": 4
}
